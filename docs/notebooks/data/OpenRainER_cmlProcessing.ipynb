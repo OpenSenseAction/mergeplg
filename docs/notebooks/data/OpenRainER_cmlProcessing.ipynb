{
 "cells": [
  {
   "cell_type": "code",
   "execution_count": 2,
   "id": "777f8206-5b77-4291-b1d1-ded55fb935ed",
   "metadata": {},
   "outputs": [],
   "source": [
    "import numpy as np\n",
    "import pandas as pd\n",
    "import pycomlink as pycml\n",
    "import xarray as xr"
   ]
  },
  {
   "cell_type": "markdown",
   "id": "79a8b64a",
   "metadata": {},
   "source": [
    "# CML processing"
   ]
  },
  {
   "cell_type": "code",
   "execution_count": 3,
   "id": "86523eba-9605-40f7-b2fd-9915394b5999",
   "metadata": {},
   "outputs": [],
   "source": [
    "def RADclassifier(cmls, rad):\n",
    "    \"\"\"wet/dry classfication with radar\n",
    "\n",
    "    radar frequency 15m\n",
    "    cml frequency 1m\n",
    "    \"\"\"\n",
    "    TimeSeq = pd.date_range(cmls.time.values[0], cmls.time.values[-1], freq=\"min\")\n",
    "    cmls = cmls.reindex({\"time\": TimeSeq})\n",
    "    cmls[\"wet\"] = (\n",
    "        (\"cml_id\", \"sublink_id\", \"time\"),\n",
    "        np.zeros(cmls.rsl.shape, dtype=\"bool\"),\n",
    "    )\n",
    "    latitudes = np.array(\n",
    "        [\n",
    "            rad.lat.values,\n",
    "        ]\n",
    "        * len(rad.lon.values)\n",
    "    ).transpose()\n",
    "    longitudes = np.array(\n",
    "        [\n",
    "            rad.lon.values,\n",
    "        ]\n",
    "        * len(rad.lat.values)\n",
    "    )\n",
    "    da_intersect_weights = (\n",
    "        pycml.spatial.grid_intersection.calc_sparse_intersect_weights_for_several_cmls(\n",
    "            x1_line=cmls.site_0_lon.values,\n",
    "            y1_line=cmls.site_0_lat.values,\n",
    "            x2_line=cmls.site_1_lon.values,\n",
    "            y2_line=cmls.site_1_lat.values,\n",
    "            cml_id=cmls.cml_id.values,\n",
    "            x_grid=longitudes,\n",
    "            y_grid=latitudes,\n",
    "            grid_point_location=\"center\",\n",
    "        )\n",
    "    )\n",
    "    radar_along_cmls = (\n",
    "        pycml.spatial.grid_intersection.get_grid_time_series_at_intersections(\n",
    "            grid_data=rad.rainfall_amount,\n",
    "            intersect_weights=da_intersect_weights,\n",
    "        )\n",
    "    )\n",
    "    for ID in cmls.cml_id.values:\n",
    "        radAlong = radar_along_cmls.sel(cml_id=ID)\n",
    "        dry_times = radAlong.time.where(radAlong == 0, drop=True).values\n",
    "        mask = np.zeros(len(cmls.time), dtype=\"bool\")\n",
    "        if len(dry_times) > 0:\n",
    "            dry_intervals = np.array(\n",
    "                [(t - np.timedelta64(15, \"m\"), t) for t in dry_times]\n",
    "            )\n",
    "            mask = np.any(\n",
    "                [\n",
    "                    (cmls.time.values > start) & (cmls.time.values <= end)\n",
    "                    for start, end in dry_intervals\n",
    "                ],\n",
    "                axis=0,\n",
    "            )\n",
    "        cmls[\"wet\"].loc[{\"cml_id\": ID, \"sublink_id\": \"channel1\"}] = ~mask\n",
    "        cmls[\"wet\"].loc[{\"cml_id\": ID, \"sublink_id\": \"channel2\"}] = ~mask\n",
    "    return cmls"
   ]
  },
  {
   "cell_type": "code",
   "execution_count": 4,
   "id": "5d8be9be",
   "metadata": {},
   "outputs": [],
   "source": [
    "def BASELINE(cmls, n_average_last_dry):\n",
    "    \"\"\"Compute baseline (median of dry signal)\"\"\"\n",
    "    cmls[\"baseline\"] = (\n",
    "        (\"cml_id\", \"sublink_id\", \"time\"),\n",
    "        np.zeros(cmls.rsl.shape, dtype=np.float64),\n",
    "    )\n",
    "    print(\"Baseline computation\")\n",
    "    for ID in cmls.cml_id.values:\n",
    "        for sub in cmls.sublink_id.values:\n",
    "            trsl = cmls.tl.sel(cml_id=ID, sublink_id=sub).values\n",
    "            wet = cmls.wet.sel(cml_id=ID, sublink_id=sub).values\n",
    "            baseline = np.zeros_like(trsl, dtype=np.float64)\n",
    "            baseline[0:n_average_last_dry] = trsl[0:n_average_last_dry]\n",
    "            for i in range(n_average_last_dry, len(trsl)):\n",
    "                if np.isnan(wet[i]):\n",
    "                    baseline[i] = np.nan\n",
    "                elif wet[i] & ~wet[i - 1]:\n",
    "                    baseline[i] = np.nanmedian(baseline[(i - n_average_last_dry) : i])\n",
    "                elif wet[i] & wet[i - 1]:\n",
    "                    baseline[i] = baseline[i - 1]\n",
    "                else:\n",
    "                    baseline[i] = trsl[i]\n",
    "            cmls[\"baseline\"].loc[{\"cml_id\": ID, \"sublink_id\": sub}] = baseline\n",
    "    return cmls"
   ]
  },
  {
   "cell_type": "code",
   "execution_count": 5,
   "id": "89e9d851",
   "metadata": {},
   "outputs": [],
   "source": [
    "def CMLprocessing(cmls):\n",
    "    \"\"\"Process all CMLs\"\"\"\n",
    "    cmls.coords[\"polarization\"] = cmls.polarization.fillna(\"vertical\")\n",
    "    cmls.coords[\"frequency\"] = cmls.frequency.fillna(25000.0)\n",
    "    cmls[\"tl\"] = cmls.tsl - cmls.rsl\n",
    "    cmls = BASELINE(cmls, n_average_last_dry=60)\n",
    "    cmls[\"A\"] = cmls.tl - cmls.baseline\n",
    "    cmls[\"A\"] = cmls.A.where(cmls.A >= 0, 0)\n",
    "    cmls[\"waa\"] = pycml.processing.wet_antenna.waa_leijnse_2008_from_A_obs(\n",
    "        A_obs=cmls.A,\n",
    "        f_Hz=cmls.frequency * 1e6,\n",
    "        pol=cmls.polarization,\n",
    "        L_km=cmls.length,\n",
    "        gamma=(2.06e-05) / 1.4,\n",
    "        l_antenna=0.0043,\n",
    "        delta=0.24 * 1.5,\n",
    "    )\n",
    "    cmls[\"A_rain\"] = cmls.tl - cmls.baseline - cmls.waa\n",
    "    cmls[\"A_rain\"].values[cmls.A_rain < 0] = 0\n",
    "    cmls[\"R\"] = pycml.processing.k_R_relation.calc_R_from_A(\n",
    "        A=cmls.A_rain,\n",
    "        L_km=cmls.length.astype(float) / 1000,\n",
    "        f_GHz=cmls.frequency / 1000,  # convert to GHz\n",
    "        pol=cmls.polarization,\n",
    "    )\n",
    "    cmls[\"R\"] = cmls[\"R\"] * (1 / 60)  # rain rate - rain depth conversion\n",
    "    return cmls.drop_vars({\"rsl\", \"tsl\", \"wet\", \"tl\", \"baseline\", \"A\", \"A_rain\", \"waa\"})"
   ]
  },
  {
   "cell_type": "markdown",
   "id": "273781fc",
   "metadata": {},
   "source": [
    "# Load data and execute functions"
   ]
  },
  {
   "cell_type": "code",
   "execution_count": 6,
   "id": "23c4b674",
   "metadata": {},
   "outputs": [
    {
     "name": "stdout",
     "output_type": "stream",
     "text": [
      "Baseline computation\n"
     ]
    },
    {
     "name": "stderr",
     "output_type": "stream",
     "text": [
      "/tmp/ecovi/ipykernel_272416/3882095209.py:17: RuntimeWarning: All-NaN slice encountered\n",
      "  baseline[i] = np.nanmedian(baseline[(i - n_average_last_dry) : i])\n"
     ]
    }
   ],
   "source": [
    "# open data\n",
    "cmls = xr.open_dataset(\"CML_20220917_20220918.nc\")\n",
    "rad = xr.open_dataset(\"RAD_20220917_20220918.nc\")\n",
    "# processing\n",
    "cmls = RADclassifier(cmls, rad)\n",
    "cmls = CMLprocessing(cmls)"
   ]
  },
  {
   "cell_type": "markdown",
   "id": "96783048",
   "metadata": {},
   "source": [
    "# Aggregate precipitation over 15M, Resampling and Slice"
   ]
  },
  {
   "cell_type": "code",
   "execution_count": 7,
   "id": "792f14d4",
   "metadata": {},
   "outputs": [],
   "source": [
    "cmls = cmls.rolling(time=15, center=False).sum(skipna=False)\n",
    "TimeSeq = pd.date_range(cmls.time.values[0], cmls.time.values[-1], freq=\"15min\")\n",
    "cmls = cmls.reindex({\"time\": TimeSeq})\n",
    "cmls = cmls.sel(time=slice(\"2022-09-17T08:00:00\", \"2022-09-17T10:30\"))"
   ]
  },
  {
   "cell_type": "markdown",
   "id": "2bcf54d8",
   "metadata": {},
   "source": [
    "# Saving output"
   ]
  },
  {
   "cell_type": "code",
   "execution_count": 8,
   "id": "72d4b88b",
   "metadata": {},
   "outputs": [],
   "source": [
    "cmls = cmls.fillna(-9999.0)\n",
    "cmls.time.encoding[\"units\"] = \"seconds since 1970-01-01 00:00:00\"\n",
    "cmls.time.encoding[\"calendar\"] = \"gregorian\"\n",
    "compVar = {\"_FillValue\": None, \"missing_value\": -9999.0}\n",
    "encoding = {var: compVar for var in cmls.data_vars}\n",
    "cmls.site_0_lat.encoding[\"_FillValue\"] = None\n",
    "cmls.site_0_lon.encoding[\"_FillValue\"] = None\n",
    "cmls.site_0_elev.encoding[\"_FillValue\"] = None\n",
    "cmls.site_1_lat.encoding[\"_FillValue\"] = None\n",
    "cmls.site_1_lon.encoding[\"_FillValue\"] = None\n",
    "cmls.site_1_elev.encoding[\"_FillValue\"] = None\n",
    "cmls.length.encoding[\"_FillValue\"] = None\n",
    "cmls.frequency.encoding[\"_FillValue\"] = None\n",
    "cmls.polarization.encoding[\"_FillValue\"] = None\n",
    "cmls.polarization.encoding[\"missing_value\"] = \"NA\"\n",
    "cmls.to_netcdf(\"openrainer_CML.nc\", encoding=encoding)"
   ]
  },
  {
   "cell_type": "code",
   "execution_count": null,
   "id": "b62e27c0",
   "metadata": {},
   "outputs": [],
   "source": []
  }
 ],
 "metadata": {
  "kernelspec": {
   "display_name": "Python 3 (ipykernel)",
   "language": "python",
   "name": "python3"
  },
  "language_info": {
   "codemirror_mode": {
    "name": "ipython",
    "version": 3
   },
   "file_extension": ".py",
   "mimetype": "text/x-python",
   "name": "python",
   "nbconvert_exporter": "python",
   "pygments_lexer": "ipython3",
   "version": "3.10.14"
  }
 },
 "nbformat": 4,
 "nbformat_minor": 5
}
