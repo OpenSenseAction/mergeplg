{
 "cells": [
  {
   "cell_type": "code",
   "execution_count": 1,
   "id": "38d4b80c-ad77-44a4-ba0d-e909a301ebba",
   "metadata": {},
   "outputs": [],
   "source": [
    "%load_ext autoreload\n",
    "%autoreload 2"
   ]
  },
  {
   "cell_type": "code",
   "execution_count": 2,
   "id": "777f8206-5b77-4291-b1d1-ded55fb935ed",
   "metadata": {},
   "outputs": [],
   "source": [
    "# Standard imports\n",
    "import matplotlib.pyplot as plt\n",
    "import numpy as np\n",
    "import poligrain as plg\n",
    "import xarray as xr\n",
    "\n",
    "from mergeplg import interpolate, merge"
   ]
  },
  {
   "cell_type": "code",
   "execution_count": 3,
   "id": "86523eba-9605-40f7-b2fd-9915394b5999",
   "metadata": {},
   "outputs": [],
   "source": [
    "# Load processed data, resolution 5 minutes\n",
    "ds_gauges = xr.open_dataset(\"./data/openmrg_municp_gauge.nc\")\n",
    "ds_cmls = xr.open_dataset(\"./data/openmrg_cml.nc\")\n",
    "ds_rad = xr.open_dataset(\"./data/openmrg_rad.nc\")\n",
    "ds_gauges_smhi = xr.open_dataset(\"./data/openmrg_smhi_gauge.nc\")\n",
    "\n",
    "# Fix error where lat/lon was set to variable\n",
    "ds_rad = ds_rad.set_coords([\"longitudes\", \"latitudes\"])\n",
    "ds_rad = ds_rad.rename({\"rainfall_amount\": \"rainfall_radar\"})\n",
    "\n",
    "# Fix naming errors\n",
    "ds_gauges = ds_gauges.rename({\"station_id\": \"id\"})\n",
    "ds_gauges_smhi = ds_gauges_smhi.rename({\"station_id\": \"id\"})\n",
    "\n",
    "ds_rad = ds_rad.rename({\"longitudes\": \"lon\", \"latitudes\": \"lat\"})"
   ]
  },
  {
   "cell_type": "code",
   "execution_count": 4,
   "id": "fd7fe673-df7a-4a89-a555-5fb5b827ef2c",
   "metadata": {},
   "outputs": [],
   "source": [
    "# Threshold lower values\n",
    "radar_zero = 0.01  # here in sum mm over 5 minutes\n",
    "ds_rad[\"rainfall_radar\"] = xr.where(\n",
    "    ds_rad.rainfall_radar > radar_zero, ds_rad.rainfall_radar, 0\n",
    ")"
   ]
  },
  {
   "cell_type": "markdown",
   "id": "094d09ae-d52c-4b47-9bd9-7a58542faa6c",
   "metadata": {},
   "source": [
    "# Project data"
   ]
  },
  {
   "cell_type": "code",
   "execution_count": 5,
   "id": "b5bf408b-2c90-4ca4-a9fe-faa7bc6776b6",
   "metadata": {},
   "outputs": [],
   "source": [
    "# UTM32N: https://epsg.io/32632\n",
    "ref_str = \"EPSG:32632\""
   ]
  },
  {
   "cell_type": "code",
   "execution_count": 6,
   "id": "6369d55a-c00c-4f8c-8338-b79dcc92e0c5",
   "metadata": {},
   "outputs": [],
   "source": [
    "ds_gauges.coords[\"x\"], ds_gauges.coords[\"y\"] = plg.spatial.project_point_coordinates(\n",
    "    ds_gauges.lon, ds_gauges.lat, ref_str\n",
    ")\n",
    "\n",
    "ds_gauges_smhi.coords[\"x\"], ds_gauges_smhi.coords[\"y\"] = (\n",
    "    plg.spatial.project_point_coordinates(\n",
    "        ds_gauges_smhi.lon, ds_gauges_smhi.lat, ref_str\n",
    "    )\n",
    ")"
   ]
  },
  {
   "cell_type": "code",
   "execution_count": 7,
   "id": "8f053d0b-0c12-45df-a59b-f8f94947b1a2",
   "metadata": {},
   "outputs": [],
   "source": [
    "# For CML\n",
    "(\n",
    "    ds_cmls.coords[\"site_0_x\"],\n",
    "    ds_cmls.coords[\"site_0_y\"],\n",
    ") = plg.spatial.project_point_coordinates(\n",
    "    ds_cmls.site_0_lon, ds_cmls.site_0_lat, ref_str\n",
    ")\n",
    "(\n",
    "    ds_cmls.coords[\"site_1_x\"],\n",
    "    ds_cmls.coords[\"site_1_y\"],\n",
    ") = plg.spatial.project_point_coordinates(\n",
    "    ds_cmls.site_1_lon, ds_cmls.site_1_lat, ref_str\n",
    ")\n",
    "\n",
    "# Midpoint\n",
    "ds_cmls[\"x\"] = (ds_cmls.site_0_x + ds_cmls.site_1_x) / 2\n",
    "ds_cmls[\"y\"] = (ds_cmls.site_0_y + ds_cmls.site_1_y) / 2"
   ]
  },
  {
   "cell_type": "code",
   "execution_count": 8,
   "id": "ddde2137-bbd0-4d31-935a-52a33129f3d3",
   "metadata": {},
   "outputs": [],
   "source": [
    "# Projected radar coords\n",
    "ds_rad.coords[\"x_grid\"], ds_rad.coords[\"y_grid\"] = (\n",
    "    plg.spatial.project_point_coordinates(ds_rad.lon, ds_rad.lat, ref_str)\n",
    ")"
   ]
  },
  {
   "cell_type": "markdown",
   "id": "d97e458c-699f-4ad1-8f5c-faf27d8839df",
   "metadata": {},
   "source": [
    "# Estimate rainfall fields"
   ]
  },
  {
   "cell_type": "code",
   "execution_count": 9,
   "id": "c3f4ed30-ef4d-4ffa-91d3-67ee94129b38",
   "metadata": {},
   "outputs": [],
   "source": [
    "# Define variogram parameters used by kriging\n",
    "variogram_parameters = {\"sill\": 0.9, \"range\": 5000, \"nugget\": 0.1}\n",
    "variogram_model = \"exponential\"\n",
    "\n",
    "# Number of neighbours to use for interpolation\n",
    "nnear = 12"
   ]
  },
  {
   "cell_type": "markdown",
   "id": "7ffe30d1-0201-4f07-9d12-838ee8a2346c",
   "metadata": {},
   "source": [
    "## Interpolate ground observations"
   ]
  },
  {
   "cell_type": "markdown",
   "id": "d7619a35-0322-47c6-bd7d-3b1144a57254",
   "metadata": {},
   "source": [
    "### IDW interpolation"
   ]
  },
  {
   "cell_type": "code",
   "execution_count": 10,
   "id": "e474da50-c300-469c-9c5c-ae784b36ad94",
   "metadata": {},
   "outputs": [],
   "source": [
    "interpolator = interpolate.InterpolateIDW()\n",
    "\n",
    "rainfall = []\n",
    "for time in ds_cmls.time.data:\n",
    "    rainfall.append(\n",
    "        interpolator.interpolate(\n",
    "            ds_rad.sel(time=[time]).rainfall_radar,\n",
    "            da_cml=ds_cmls.sel(time=[time]).R,\n",
    "            nnear=nnear,\n",
    "        )\n",
    "    )\n",
    "ds_rad[\"rainfall_interpolateIDW\"] = xr.concat(rainfall, dim=\"time\")"
   ]
  },
  {
   "cell_type": "markdown",
   "id": "69fc49d8-75fb-43af-949f-21a3c084596f",
   "metadata": {},
   "source": [
    "### Kriging interpolation"
   ]
  },
  {
   "cell_type": "code",
   "execution_count": 11,
   "id": "4fca6332-bb5b-4025-8c22-3c707d2cd032",
   "metadata": {},
   "outputs": [],
   "source": [
    "interpolator = interpolate.InterpolateOrdinaryKriging()\n",
    "\n",
    "rainfall = []\n",
    "for time in ds_cmls.time.data:\n",
    "    rainfall.append(\n",
    "        interpolator.interpolate(\n",
    "            ds_rad.sel(time=[time]).rainfall_radar,\n",
    "            da_cml=ds_cmls.sel(time=[time]).R,\n",
    "            full_line=False,\n",
    "            variogram_parameters=variogram_parameters,\n",
    "            nnear=nnear,\n",
    "        )\n",
    "    )\n",
    "ds_rad[\"rainfall_interpolateBKpoint\"] = xr.concat(rainfall, dim=\"time\")"
   ]
  },
  {
   "cell_type": "markdown",
   "id": "199b2704-c1cb-41c4-8a83-a630b656cf2f",
   "metadata": {},
   "source": [
    "### Block kriging interpolation"
   ]
  },
  {
   "cell_type": "code",
   "execution_count": 12,
   "id": "2b44fc97-8ee5-4913-87de-0c52a68a23e2",
   "metadata": {},
   "outputs": [],
   "source": [
    "interpolator = interpolate.InterpolateOrdinaryKriging()\n",
    "\n",
    "rainfall = []\n",
    "for time in ds_cmls.time.data:\n",
    "    rainfall.append(\n",
    "        interpolator.interpolate(\n",
    "            ds_rad.sel(time=[time]).rainfall_radar,\n",
    "            da_cml=ds_cmls.sel(time=[time]).R,\n",
    "            full_line=True,\n",
    "            variogram_parameters=variogram_parameters,\n",
    "            nnear=nnear,\n",
    "        )\n",
    "    )\n",
    "ds_rad[\"rainfall_interpolateBKline\"] = xr.concat(rainfall, dim=\"time\")"
   ]
  },
  {
   "cell_type": "markdown",
   "id": "0bf6133f-d53c-4294-8a12-f7aa96f38bd3",
   "metadata": {},
   "source": [
    "## Adjust radar field"
   ]
  },
  {
   "cell_type": "markdown",
   "id": "01bddd1f-147f-47f7-a73a-5a9d36a1f6f6",
   "metadata": {},
   "source": [
    "### IDW additive adjust"
   ]
  },
  {
   "cell_type": "code",
   "execution_count": 13,
   "id": "ecad7adb-00bc-45b2-a12c-b750dbc18d20",
   "metadata": {},
   "outputs": [],
   "source": [
    "merger = merge.MergeDifferenceIDW()\n",
    "\n",
    "rainfall = []\n",
    "for time in ds_cmls.time.data:\n",
    "    rainfall.append(\n",
    "        merger.adjust(\n",
    "            ds_rad.sel(time=[time]).rainfall_radar,\n",
    "            da_cml=ds_cmls.sel(time=[time]).R,\n",
    "            method=\"additive\",\n",
    "            nnear=nnear,\n",
    "        )\n",
    "    )\n",
    "ds_rad[\"rainfall_additiveIDW\"] = xr.concat(rainfall, dim=\"time\")"
   ]
  },
  {
   "cell_type": "markdown",
   "id": "84dcfe37-a173-4754-bea4-c83d049217f1",
   "metadata": {},
   "source": [
    "### Kriging additive adjust"
   ]
  },
  {
   "cell_type": "code",
   "execution_count": null,
   "id": "955d2d98-70c6-4d5c-969a-caaef5bc6e04",
   "metadata": {
    "scrolled": true
   },
   "outputs": [],
   "source": [
    "merger = merge.MergeDifferenceOrdinaryKriging()\n",
    "\n",
    "rainfall = []\n",
    "for time in ds_cmls.time.data:\n",
    "    rainfall.append(\n",
    "        merger.adjust(\n",
    "            ds_rad.sel(time=[time]).rainfall_radar,\n",
    "            da_cml=ds_cmls.sel(time=[time]).R,\n",
    "            method=\"additive\",\n",
    "            full_line=False,\n",
    "            variogram_parameters=variogram_parameters,\n",
    "            nnear=nnear,\n",
    "        )\n",
    "    )\n",
    "ds_rad[\"rainfall_additiveBKpoint\"] = xr.concat(rainfall, dim=\"time\")"
   ]
  },
  {
   "cell_type": "markdown",
   "id": "746dced3-472e-4fef-99c5-e9ceceb62310",
   "metadata": {},
   "source": [
    "### Block kriging additive adjust"
   ]
  },
  {
   "cell_type": "code",
   "execution_count": null,
   "id": "b31ded88-44ea-466a-8cf0-a75579497f52",
   "metadata": {},
   "outputs": [],
   "source": [
    "merger = merge.MergeDifferenceOrdinaryKriging()\n",
    "\n",
    "rainfall = []\n",
    "for time in ds_cmls.time.data:\n",
    "    rainfall.append(\n",
    "        merger.adjust(\n",
    "            ds_rad.sel(time=[time]).rainfall_radar,\n",
    "            da_cml=ds_cmls.sel(time=[time]).R,\n",
    "            method=\"additive\",\n",
    "            full_line=True,\n",
    "            variogram_parameters=variogram_parameters,\n",
    "            nnear=nnear,\n",
    "        )\n",
    "    )\n",
    "ds_rad[\"rainfall_additiveBKline\"] = xr.concat(rainfall, dim=\"time\")"
   ]
  },
  {
   "cell_type": "markdown",
   "id": "ea2e659a-fdc8-424c-9189-5d5a6376faee",
   "metadata": {},
   "source": [
    "### Block kriging with external drift"
   ]
  },
  {
   "cell_type": "code",
   "execution_count": null,
   "id": "d00a0684-87d7-408e-9250-975856692b1c",
   "metadata": {},
   "outputs": [],
   "source": [
    "merger = merge.MergeKrigingExternalDrift()\n",
    "\n",
    "rainfall = []\n",
    "for time in ds_cmls.time.data:\n",
    "    rainfall.append(\n",
    "        merger.adjust(\n",
    "            ds_rad.sel(time=[time]).rainfall_radar,\n",
    "            da_cml=ds_cmls.sel(time=[time]).R,\n",
    "            variogram_parameters=variogram_parameters,\n",
    "            n_closest=nnear,\n",
    "        )\n",
    "    )\n",
    "ds_rad[\"rainfall_KED\"] = xr.concat(rainfall, dim=\"time\")"
   ]
  },
  {
   "cell_type": "markdown",
   "id": "c163a39e-8556-4236-8c97-75dac7f1bbd9",
   "metadata": {},
   "source": [
    "# Plot rainfall fields"
   ]
  },
  {
   "cell_type": "code",
   "execution_count": null,
   "id": "2baf9899-0882-4402-b42e-063b712572a4",
   "metadata": {},
   "outputs": [],
   "source": [
    "vmax = 0.6  # max color\n",
    "cmap_rain = \"viridis\"\n",
    "# Time interval to plot\n",
    "time_start = \"2015-07-25T12:30\"\n",
    "time_end = \"2015-07-25T13:30\"\n",
    "\n",
    "# Rainfall fields to plot\n",
    "rainfall_fields = [\n",
    "    \"rainfall_radar\",\n",
    "    \"rainfall_interpolateIDW\",\n",
    "    \"rainfall_interpolateBKpoint\",\n",
    "    \"rainfall_interpolateBKline\",\n",
    "    \"rainfall_additiveIDW\",\n",
    "    \"rainfall_additiveBKpoint\",\n",
    "    \"rainfall_additiveBKline\",\n",
    "    \"rainfall_KED\",\n",
    "]\n",
    "\n",
    "for time in ds_cmls.sel(time=slice(time_start, time_end)).time[:3]:\n",
    "    fig, ax = plt.subplots(1, len(rainfall_fields), figsize=(20, 4), sharey=True)\n",
    "    for i, rainfall_field in enumerate(rainfall_fields):\n",
    "        # Plot rainfall field\n",
    "        im = ax[i].pcolormesh(\n",
    "            ds_rad.lon,\n",
    "            ds_rad.lat,\n",
    "            ds_rad[rainfall_field].sel(time=time),\n",
    "            vmin=0,\n",
    "            vmax=vmax,\n",
    "            cmap=cmap_rain,\n",
    "        )\n",
    "\n",
    "        # Plot postion CMLs\n",
    "        plg.plot_map.plot_lines(\n",
    "            ds_cmls,\n",
    "            use_lon_lat=True,\n",
    "            ax=ax[i],\n",
    "            line_color=\"k\",\n",
    "        )\n",
    "\n",
    "        ax[i].set_title(rainfall_field.split(\"_\")[1])\n",
    "\n",
    "    clb = fig.colorbar(im, ax=ax, location=\"right\", anchor=(-0.25, 1.0))\n",
    "    clb.ax.set_ylabel(\"Rainfall amounts\")\n",
    "    plt.show()"
   ]
  },
  {
   "cell_type": "markdown",
   "id": "f5edf6ad-042b-4238-9552-de71873b3736",
   "metadata": {},
   "source": [
    "# Compare adjusted fields to CML observations"
   ]
  },
  {
   "cell_type": "code",
   "execution_count": null,
   "id": "46ea1611-f6ea-41c2-9126-72745244990f",
   "metadata": {},
   "outputs": [],
   "source": [
    "intersect_weights = plg.spatial.calc_sparse_intersect_weights_for_several_cmls(\n",
    "    x1_line=ds_cmls.site_0_lon.data,\n",
    "    y1_line=ds_cmls.site_0_lat.data,\n",
    "    x2_line=ds_cmls.site_1_lon.data,\n",
    "    y2_line=ds_cmls.site_1_lat.data,\n",
    "    cml_id=ds_cmls.cml_id.data,\n",
    "    x_grid=ds_rad.lon.data,\n",
    "    y_grid=ds_rad.lat.data,\n",
    "    grid_point_location=\"center\",\n",
    ")\n",
    "\n",
    "rainfall_fields = [\n",
    "    \"rainfall_radar\",\n",
    "    \"rainfall_interpolateIDW\",\n",
    "    \"rainfall_interpolateBKpoint\",\n",
    "    \"rainfall_interpolateBKline\",\n",
    "    \"rainfall_additiveIDW\",\n",
    "    \"rainfall_additiveBKpoint\",\n",
    "    \"rainfall_additiveBKline\",\n",
    "    \"rainfall_KED\",\n",
    "]\n",
    "\n",
    "# Sample CML along line\n",
    "for rainfall_field in rainfall_fields:\n",
    "    ds_cmls[rainfall_field] = plg.spatial.get_grid_time_series_at_intersections(\n",
    "        grid_data=ds_rad[rainfall_field],\n",
    "        intersect_weights=intersect_weights,\n",
    "    )"
   ]
  },
  {
   "cell_type": "code",
   "execution_count": null,
   "id": "72d9d58c-ba17-4b94-bb0d-5e9aceb78c63",
   "metadata": {},
   "outputs": [],
   "source": [
    "# Plot\n",
    "vmax = 3\n",
    "threshold = 0  # Only use above\n",
    "extent = [0, vmax, 0, vmax]\n",
    "gridsize = 30\n",
    "cml_observed = ds_cmls.R.data.ravel()\n",
    "fig, ax = plt.subplots(1, len(rainfall_fields), figsize=(20, 4), sharey=True)\n",
    "\n",
    "for i, rainfall_field in enumerate(rainfall_fields):\n",
    "    cml_estimate = ds_cmls[rainfall_field].data.ravel()\n",
    "\n",
    "    ax[i].hexbin(\n",
    "        cml_observed,\n",
    "        cml_estimate,\n",
    "        mincnt=1,\n",
    "        extent=extent,\n",
    "        gridsize=gridsize,\n",
    "        bins=\"log\",\n",
    "    )\n",
    "    ax[i].text(\n",
    "        0.6,\n",
    "        0.03,\n",
    "        \"RMSE: \" + str(round(np.sqrt(np.mean((cml_observed - cml_estimate) ** 2)), 2)),\n",
    "        bbox={\"facecolor\": \"white\", \"edgecolor\": \"black\"},\n",
    "        transform=ax[i].transAxes,\n",
    "    )\n",
    "    ax[i].text(\n",
    "        0.6,\n",
    "        0.12,\n",
    "        \"PCC: \" + str(round(np.corrcoef(cml_observed, cml_estimate)[0, 1], 2)),\n",
    "        bbox={\"facecolor\": \"white\", \"edgecolor\": \"black\"},\n",
    "        transform=ax[i].transAxes,\n",
    "    )\n",
    "    ax[i].text(\n",
    "        0.6,\n",
    "        0.21,\n",
    "        \"bias: \"\n",
    "        + str(round(np.mean(cml_estimate - cml_observed) / np.mean(cml_observed), 2)),\n",
    "        bbox={\"facecolor\": \"white\", \"edgecolor\": \"black\"},\n",
    "        transform=ax[i].transAxes,\n",
    "    )\n",
    "    ax[i].text(\n",
    "        0.6,\n",
    "        0.3,\n",
    "        \"MAE: \" + str(round(np.mean(np.abs(cml_estimate - cml_observed)), 2)),\n",
    "        bbox={\"facecolor\": \"white\", \"edgecolor\": \"black\"},\n",
    "        transform=ax[i].transAxes,\n",
    "    )\n",
    "    ax[i].plot([0, extent[1]], [0, extent[1]], \"k\")\n",
    "\n",
    "    ax[i].set_title(rainfall_field.split(\"_\")[1])"
   ]
  },
  {
   "cell_type": "markdown",
   "id": "77ad2904-ebfe-45af-a52b-ca3fd70bc6f7",
   "metadata": {},
   "source": [
    "# Compare adjusted fields to city rain gauges"
   ]
  },
  {
   "cell_type": "code",
   "execution_count": null,
   "id": "bb2ebf96-ae7c-4443-9730-2ccfd67ee362",
   "metadata": {},
   "outputs": [],
   "source": [
    "get_grid_at_points = plg.spatial.GridAtPoints(\n",
    "    da_gridded_data=ds_rad,\n",
    "    da_point_data=ds_gauges,\n",
    "    nnear=1,\n",
    "    stat=\"best\",\n",
    ")\n",
    "\n",
    "# Sample rainfall fields\n",
    "for rainfall_field in rainfall_fields:\n",
    "    ds_gauges[rainfall_field] = get_grid_at_points(\n",
    "        da_gridded_data=ds_rad[rainfall_field],\n",
    "        da_point_data=ds_gauges.rainfall_amount,\n",
    "    )"
   ]
  },
  {
   "cell_type": "code",
   "execution_count": null,
   "id": "f586635f-7e14-44e6-b3cc-27c8fb0094ea",
   "metadata": {},
   "outputs": [],
   "source": [
    "# Plot\n",
    "vmax = 2\n",
    "threshold = 0  # Only use above\n",
    "extent = [0, vmax, 0, vmax]\n",
    "gridsize = 30\n",
    "\n",
    "gauge_observed = ds_gauges.rainfall_amount.data.ravel()\n",
    "fig, ax = plt.subplots(1, len(rainfall_fields), figsize=(20, 4), sharey=True)\n",
    "for i, rainfall_field in enumerate(rainfall_fields):\n",
    "    gauge_estimate = ds_gauges[rainfall_field].data.ravel()\n",
    "\n",
    "    ax[i].hexbin(\n",
    "        gauge_observed,\n",
    "        gauge_estimate,\n",
    "        mincnt=1,\n",
    "        extent=extent,\n",
    "        gridsize=gridsize,\n",
    "        bins=\"log\",\n",
    "    )\n",
    "    ax[i].text(\n",
    "        0.6,\n",
    "        0.03,\n",
    "        \"RMSE: \"\n",
    "        + str(round(np.sqrt(np.mean((gauge_observed - gauge_estimate) ** 2)), 2)),\n",
    "        bbox={\"facecolor\": \"white\", \"edgecolor\": \"black\"},\n",
    "        transform=ax[i].transAxes,\n",
    "    )\n",
    "    ax[i].text(\n",
    "        0.6,\n",
    "        0.12,\n",
    "        \"PCC: \" + str(round(np.corrcoef(gauge_observed, gauge_estimate)[0, 1], 2)),\n",
    "        bbox={\"facecolor\": \"white\", \"edgecolor\": \"black\"},\n",
    "        transform=ax[i].transAxes,\n",
    "    )\n",
    "    ax[i].text(\n",
    "        0.6,\n",
    "        0.21,\n",
    "        \"bias: \"\n",
    "        + str(\n",
    "            round(np.mean(gauge_estimate - gauge_observed) / np.mean(gauge_observed), 2)\n",
    "        ),\n",
    "        bbox={\"facecolor\": \"white\", \"edgecolor\": \"black\"},\n",
    "        transform=ax[i].transAxes,\n",
    "    )\n",
    "    ax[i].text(\n",
    "        0.6,\n",
    "        0.3,\n",
    "        \"MAE: \" + str(round(np.mean(np.abs(gauge_estimate - gauge_observed)), 2)),\n",
    "        bbox={\"facecolor\": \"white\", \"edgecolor\": \"black\"},\n",
    "        transform=ax[i].transAxes,\n",
    "    )\n",
    "    ax[i].plot([0, extent[1]], [0, extent[1]], \"k\")\n",
    "\n",
    "    ax[i].set_title(rainfall_field.split(\"_\")[1])"
   ]
  },
  {
   "cell_type": "markdown",
   "id": "66fc1786-9d3c-43ff-a12c-48fad5f24b83",
   "metadata": {},
   "source": [
    "# Compare to SMHI rain gauge"
   ]
  },
  {
   "cell_type": "code",
   "execution_count": null,
   "id": "71f9f2da-a6ee-437c-9fba-e817d92a2612",
   "metadata": {},
   "outputs": [],
   "source": [
    "get_grid_at_points = plg.spatial.GridAtPoints(\n",
    "    da_gridded_data=ds_rad,\n",
    "    da_point_data=ds_gauges_smhi,\n",
    "    nnear=1,\n",
    "    stat=\"best\",\n",
    ")\n",
    "\n",
    "# Sample rainfall fields\n",
    "for rainfall_field in rainfall_fields:\n",
    "    ds_gauges_smhi[rainfall_field] = get_grid_at_points(\n",
    "        da_gridded_data=ds_rad[rainfall_field],\n",
    "        da_point_data=ds_gauges_smhi.rainfall_amount,\n",
    "    )"
   ]
  },
  {
   "cell_type": "code",
   "execution_count": null,
   "id": "248bff2f-193b-451b-877b-1215f42ddac6",
   "metadata": {},
   "outputs": [],
   "source": [
    "# Plot\n",
    "vmax = 3\n",
    "threshold = 0  # Only use above\n",
    "extent = [0, vmax, 0, vmax]\n",
    "gridsize = 30\n",
    "\n",
    "gauge_observed = ds_gauges_smhi.rainfall_amount.data.ravel()\n",
    "fig, ax = plt.subplots(1, len(rainfall_fields), figsize=(20, 4), sharey=True)\n",
    "for i, rainfall_field in enumerate(rainfall_fields):\n",
    "    gauge_estimate = ds_gauges_smhi[rainfall_field].data.ravel()\n",
    "\n",
    "    ax[i].hexbin(\n",
    "        gauge_observed,\n",
    "        gauge_estimate,\n",
    "        mincnt=1,\n",
    "        extent=extent,\n",
    "        gridsize=gridsize,\n",
    "        bins=\"log\",\n",
    "    )\n",
    "    ax[i].text(\n",
    "        0.6,\n",
    "        0.03,\n",
    "        \"RMSE: \"\n",
    "        + str(round(np.sqrt(np.mean((gauge_observed - gauge_estimate) ** 2)), 2)),\n",
    "        bbox={\"facecolor\": \"white\", \"edgecolor\": \"black\"},\n",
    "        transform=ax[i].transAxes,\n",
    "    )\n",
    "    ax[i].text(\n",
    "        0.6,\n",
    "        0.12,\n",
    "        \"PCC: \" + str(round(np.corrcoef(gauge_observed, gauge_estimate)[0, 1], 2)),\n",
    "        bbox={\"facecolor\": \"white\", \"edgecolor\": \"black\"},\n",
    "        transform=ax[i].transAxes,\n",
    "    )\n",
    "    ax[i].text(\n",
    "        0.6,\n",
    "        0.21,\n",
    "        \"bias: \"\n",
    "        + str(\n",
    "            round(np.mean(gauge_estimate - gauge_observed) / np.mean(gauge_observed), 2)\n",
    "        ),\n",
    "        bbox={\"facecolor\": \"white\", \"edgecolor\": \"black\"},\n",
    "        transform=ax[i].transAxes,\n",
    "    )\n",
    "    ax[i].text(\n",
    "        0.6,\n",
    "        0.3,\n",
    "        \"MAE: \" + str(round(np.mean(np.abs(gauge_estimate - gauge_observed)), 2)),\n",
    "        bbox={\"facecolor\": \"white\", \"edgecolor\": \"black\"},\n",
    "        transform=ax[i].transAxes,\n",
    "    )\n",
    "    ax[i].plot([0, extent[1]], [0, extent[1]], \"k\")\n",
    "\n",
    "    ax[i].set_title(rainfall_field.split(\"_\")[1])"
   ]
  }
 ],
 "metadata": {
  "kernelspec": {
   "display_name": "Python 3 (ipykernel)",
   "language": "python",
   "name": "python3"
  },
  "language_info": {
   "codemirror_mode": {
    "name": "ipython",
    "version": 3
   },
   "file_extension": ".py",
   "mimetype": "text/x-python",
   "name": "python",
   "nbconvert_exporter": "python",
   "pygments_lexer": "ipython3",
   "version": "3.11.10"
  }
 },
 "nbformat": 4,
 "nbformat_minor": 5
}
